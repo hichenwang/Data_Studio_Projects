{
 "cells": [
  {
   "cell_type": "code",
   "execution_count": 1,
   "metadata": {
    "collapsed": true
   },
   "outputs": [],
   "source": [
    "import requests\n",
    "from bs4 import BeautifulSoup\n",
    "import pandas as pd\n",
    "import numpy as np\n",
    "import re\n",
    "from datetime import datetime\n",
    "import statistics\n",
    "%matplotlib inline\n",
    "import matplotlib.pyplot as plt"
   ]
  },
  {
   "cell_type": "code",
   "execution_count": 7,
   "metadata": {
    "collapsed": true
   },
   "outputs": [],
   "source": [
    "df = pd.read_excel('waiting time.xlsx')"
   ]
  },
  {
   "cell_type": "code",
   "execution_count": 9,
   "metadata": {},
   "outputs": [
    {
     "data": {
      "text/html": [
       "<div>\n",
       "<style>\n",
       "    .dataframe thead tr:only-child th {\n",
       "        text-align: right;\n",
       "    }\n",
       "\n",
       "    .dataframe thead th {\n",
       "        text-align: left;\n",
       "    }\n",
       "\n",
       "    .dataframe tbody tr th {\n",
       "        vertical-align: top;\n",
       "    }\n",
       "</style>\n",
       "<table border=\"1\" class=\"dataframe\">\n",
       "  <thead>\n",
       "    <tr style=\"text-align: right;\">\n",
       "      <th></th>\n",
       "      <th>2003-2006</th>\n",
       "      <th>2007-2010</th>\n",
       "      <th>2011-2014</th>\n",
       "      <th>2004</th>\n",
       "      <th>2014</th>\n",
       "    </tr>\n",
       "  </thead>\n",
       "  <tbody>\n",
       "    <tr>\n",
       "      <th>&lt; 1 Year</th>\n",
       "      <td>226</td>\n",
       "      <td>149</td>\n",
       "      <td>119</td>\n",
       "      <td>0</td>\n",
       "      <td>1</td>\n",
       "    </tr>\n",
       "    <tr>\n",
       "      <th>1-5 Years</th>\n",
       "      <td>225</td>\n",
       "      <td>99</td>\n",
       "      <td>113</td>\n",
       "      <td>0</td>\n",
       "      <td>1</td>\n",
       "    </tr>\n",
       "    <tr>\n",
       "      <th>6-10 Years</th>\n",
       "      <td>132</td>\n",
       "      <td>127</td>\n",
       "      <td>137</td>\n",
       "      <td>0</td>\n",
       "      <td>1</td>\n",
       "    </tr>\n",
       "    <tr>\n",
       "      <th>11-17 Years</th>\n",
       "      <td>262</td>\n",
       "      <td>259</td>\n",
       "      <td>291</td>\n",
       "      <td>0</td>\n",
       "      <td>1</td>\n",
       "    </tr>\n",
       "    <tr>\n",
       "      <th>18-34 Years</th>\n",
       "      <td>416</td>\n",
       "      <td>880</td>\n",
       "      <td>1056</td>\n",
       "      <td>0</td>\n",
       "      <td>1</td>\n",
       "    </tr>\n",
       "    <tr>\n",
       "      <th>35-49 Years</th>\n",
       "      <td>815</td>\n",
       "      <td>1145</td>\n",
       "      <td>1076</td>\n",
       "      <td>0</td>\n",
       "      <td>1</td>\n",
       "    </tr>\n",
       "    <tr>\n",
       "      <th>50-64 Years</th>\n",
       "      <td>770</td>\n",
       "      <td>753</td>\n",
       "      <td>1136</td>\n",
       "      <td>0</td>\n",
       "      <td>1</td>\n",
       "    </tr>\n",
       "  </tbody>\n",
       "</table>\n",
       "</div>"
      ],
      "text/plain": [
       "             2003-2006  2007-2010  2011-2014  2004  2014\n",
       "< 1 Year           226        149        119     0     1\n",
       "1-5 Years          225         99        113     0     1\n",
       "6-10 Years         132        127        137     0     1\n",
       "11-17 Years        262        259        291     0     1\n",
       "18-34 Years        416        880       1056     0     1\n",
       "35-49 Years        815       1145       1076     0     1\n",
       "50-64 Years        770        753       1136     0     1"
      ]
     },
     "execution_count": 9,
     "metadata": {},
     "output_type": "execute_result"
    }
   ],
   "source": [
    "df"
   ]
  },
  {
   "cell_type": "code",
   "execution_count": 37,
   "metadata": {},
   "outputs": [
    {
     "data": {
      "image/png": "[encoded data removed]",
      "text/plain": [
       "<matplotlib.figure.Figure at 0x10d4762e8>"
      ]
     },
     "metadata": {},
     "output_type": "display_data"
    }
   ],
   "source": [
    "ax = df.plot(kind='scatter', \n",
    "             x=2004, \n",
    "             y='2003-2006', \n",
    "             figsize=(5,10),\n",
    "             xlim=(-0.1,1.1),\n",
    "             s=80,\n",
    "             alpha=0.5)\n",
    "df.plot(kind='scatter', x=2014, y='2011-2014', s=80, alpha=0.5, ax=ax)\n",
    "ax.grid()\n",
    "plt.savefig('waiting_time_changes.pdf')"
   ]
  },
  {
   "cell_type": "code",
   "execution_count": 41,
   "metadata": {},
   "outputs": [],
   "source": [
    "df['difference'] = df['2011-2014'] - df['2003-2006']"
   ]
  },
  {
   "cell_type": "code",
   "execution_count": 42,
   "metadata": {},
   "outputs": [
    {
     "data": {
      "text/html": [
       "<div>\n",
       "<style>\n",
       "    .dataframe thead tr:only-child th {\n",
       "        text-align: right;\n",
       "    }\n",
       "\n",
       "    .dataframe thead th {\n",
       "        text-align: left;\n",
       "    }\n",
       "\n",
       "    .dataframe tbody tr th {\n",
       "        vertical-align: top;\n",
       "    }\n",
       "</style>\n",
       "<table border=\"1\" class=\"dataframe\">\n",
       "  <thead>\n",
       "    <tr style=\"text-align: right;\">\n",
       "      <th></th>\n",
       "      <th>2003-2006</th>\n",
       "      <th>2007-2010</th>\n",
       "      <th>2011-2014</th>\n",
       "      <th>2004</th>\n",
       "      <th>2014</th>\n",
       "      <th>difference</th>\n",
       "    </tr>\n",
       "  </thead>\n",
       "  <tbody>\n",
       "    <tr>\n",
       "      <th>1-5 Years</th>\n",
       "      <td>225</td>\n",
       "      <td>99</td>\n",
       "      <td>113</td>\n",
       "      <td>0</td>\n",
       "      <td>1</td>\n",
       "      <td>-112</td>\n",
       "    </tr>\n",
       "    <tr>\n",
       "      <th>&lt; 1 Year</th>\n",
       "      <td>226</td>\n",
       "      <td>149</td>\n",
       "      <td>119</td>\n",
       "      <td>0</td>\n",
       "      <td>1</td>\n",
       "      <td>-107</td>\n",
       "    </tr>\n",
       "    <tr>\n",
       "      <th>6-10 Years</th>\n",
       "      <td>132</td>\n",
       "      <td>127</td>\n",
       "      <td>137</td>\n",
       "      <td>0</td>\n",
       "      <td>1</td>\n",
       "      <td>5</td>\n",
       "    </tr>\n",
       "    <tr>\n",
       "      <th>11-17 Years</th>\n",
       "      <td>262</td>\n",
       "      <td>259</td>\n",
       "      <td>291</td>\n",
       "      <td>0</td>\n",
       "      <td>1</td>\n",
       "      <td>29</td>\n",
       "    </tr>\n",
       "    <tr>\n",
       "      <th>35-49 Years</th>\n",
       "      <td>815</td>\n",
       "      <td>1145</td>\n",
       "      <td>1076</td>\n",
       "      <td>0</td>\n",
       "      <td>1</td>\n",
       "      <td>261</td>\n",
       "    </tr>\n",
       "    <tr>\n",
       "      <th>50-64 Years</th>\n",
       "      <td>770</td>\n",
       "      <td>753</td>\n",
       "      <td>1136</td>\n",
       "      <td>0</td>\n",
       "      <td>1</td>\n",
       "      <td>366</td>\n",
       "    </tr>\n",
       "    <tr>\n",
       "      <th>18-34 Years</th>\n",
       "      <td>416</td>\n",
       "      <td>880</td>\n",
       "      <td>1056</td>\n",
       "      <td>0</td>\n",
       "      <td>1</td>\n",
       "      <td>640</td>\n",
       "    </tr>\n",
       "  </tbody>\n",
       "</table>\n",
       "</div>"
      ],
      "text/plain": [
       "             2003-2006  2007-2010  2011-2014  2004  2014  difference\n",
       "1-5 Years          225         99        113     0     1        -112\n",
       "< 1 Year           226        149        119     0     1        -107\n",
       "6-10 Years         132        127        137     0     1           5\n",
       "11-17 Years        262        259        291     0     1          29\n",
       "35-49 Years        815       1145       1076     0     1         261\n",
       "50-64 Years        770        753       1136     0     1         366\n",
       "18-34 Years        416        880       1056     0     1         640"
      ]
     },
     "execution_count": 42,
     "metadata": {},
     "output_type": "execute_result"
    }
   ],
   "source": [
    "df.sort_values('difference')"
   ]
  },
  {
   "cell_type": "code",
   "execution_count": null,
   "metadata": {
    "collapsed": true
   },
   "outputs": [],
   "source": []
  }
 ],
 "metadata": {
  "kernelspec": {
   "display_name": "Python 3",
   "language": "python",
   "name": "python3"
  },
  "language_info": {
   "codemirror_mode": {
    "name": "ipython",
    "version": 3
   },
   "file_extension": ".py",
   "mimetype": "text/x-python",
   "name": "python",
   "nbconvert_exporter": "python",
   "pygments_lexer": "ipython3",
   "version": "3.6.1"
  }
 },
 "nbformat": 4,
 "nbformat_minor": 2
}
